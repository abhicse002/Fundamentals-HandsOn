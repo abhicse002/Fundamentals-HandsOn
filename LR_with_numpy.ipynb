{
  "nbformat": 4,
  "nbformat_minor": 0,
  "metadata": {
    "colab": {
      "provenance": [],
      "include_colab_link": true
    },
    "kernelspec": {
      "name": "python3",
      "display_name": "Python 3"
    }
  },
  "cells": [
    {
      "cell_type": "markdown",
      "metadata": {
        "id": "view-in-github",
        "colab_type": "text"
      },
      "source": [
        "<a href=\"https://colab.research.google.com/github/abhicse002/Fundamentals-HandsOn/blob/main/LR_with_numpy.ipynb\" target=\"_parent\"><img src=\"https://colab.research.google.com/assets/colab-badge.svg\" alt=\"Open In Colab\"/></a>"
      ]
    },
    {
      "cell_type": "code",
      "metadata": {
        "id": "BDalWkpdFB1-"
      },
      "source": [
        "import numpy as np\n",
        "import matplotlib.pyplot as plt"
      ],
      "execution_count": null,
      "outputs": []
    },
    {
      "cell_type": "code",
      "metadata": {
        "id": "8JLiICJmFLE0",
        "colab": {
          "base_uri": "https://localhost:8080/"
        },
        "outputId": "08ab55ac-c3f2-4d33-bdea-0a8a5dfc1124"
      },
      "source": [
        "np.random.seed(15)\n",
        "data_x = np.linspace(-10.0, 10.0, 100)[:, np.newaxis]\n",
        "data_y = np.sin(data_x) + 0.1 * np.power(data_x, 2) + 0.5 * np.random.randn(100, 1)\n",
        "# data_y = 40*data_x + 20* np.random.randn(100, 1)  # creating your data\n",
        "data_x /= np.max(data_x) #scaling\n",
        "data_x"
      ],
      "execution_count": null,
      "outputs": [
        {
          "output_type": "execute_result",
          "data": {
            "text/plain": [
              "array([[-1.        ],\n",
              "       [-0.97979798],\n",
              "       [-0.95959596],\n",
              "       [-0.93939394],\n",
              "       [-0.91919192],\n",
              "       [-0.8989899 ],\n",
              "       [-0.87878788],\n",
              "       [-0.85858586],\n",
              "       [-0.83838384],\n",
              "       [-0.81818182],\n",
              "       [-0.7979798 ],\n",
              "       [-0.77777778],\n",
              "       [-0.75757576],\n",
              "       [-0.73737374],\n",
              "       [-0.71717172],\n",
              "       [-0.6969697 ],\n",
              "       [-0.67676768],\n",
              "       [-0.65656566],\n",
              "       [-0.63636364],\n",
              "       [-0.61616162],\n",
              "       [-0.5959596 ],\n",
              "       [-0.57575758],\n",
              "       [-0.55555556],\n",
              "       [-0.53535354],\n",
              "       [-0.51515152],\n",
              "       [-0.49494949],\n",
              "       [-0.47474747],\n",
              "       [-0.45454545],\n",
              "       [-0.43434343],\n",
              "       [-0.41414141],\n",
              "       [-0.39393939],\n",
              "       [-0.37373737],\n",
              "       [-0.35353535],\n",
              "       [-0.33333333],\n",
              "       [-0.31313131],\n",
              "       [-0.29292929],\n",
              "       [-0.27272727],\n",
              "       [-0.25252525],\n",
              "       [-0.23232323],\n",
              "       [-0.21212121],\n",
              "       [-0.19191919],\n",
              "       [-0.17171717],\n",
              "       [-0.15151515],\n",
              "       [-0.13131313],\n",
              "       [-0.11111111],\n",
              "       [-0.09090909],\n",
              "       [-0.07070707],\n",
              "       [-0.05050505],\n",
              "       [-0.03030303],\n",
              "       [-0.01010101],\n",
              "       [ 0.01010101],\n",
              "       [ 0.03030303],\n",
              "       [ 0.05050505],\n",
              "       [ 0.07070707],\n",
              "       [ 0.09090909],\n",
              "       [ 0.11111111],\n",
              "       [ 0.13131313],\n",
              "       [ 0.15151515],\n",
              "       [ 0.17171717],\n",
              "       [ 0.19191919],\n",
              "       [ 0.21212121],\n",
              "       [ 0.23232323],\n",
              "       [ 0.25252525],\n",
              "       [ 0.27272727],\n",
              "       [ 0.29292929],\n",
              "       [ 0.31313131],\n",
              "       [ 0.33333333],\n",
              "       [ 0.35353535],\n",
              "       [ 0.37373737],\n",
              "       [ 0.39393939],\n",
              "       [ 0.41414141],\n",
              "       [ 0.43434343],\n",
              "       [ 0.45454545],\n",
              "       [ 0.47474747],\n",
              "       [ 0.49494949],\n",
              "       [ 0.51515152],\n",
              "       [ 0.53535354],\n",
              "       [ 0.55555556],\n",
              "       [ 0.57575758],\n",
              "       [ 0.5959596 ],\n",
              "       [ 0.61616162],\n",
              "       [ 0.63636364],\n",
              "       [ 0.65656566],\n",
              "       [ 0.67676768],\n",
              "       [ 0.6969697 ],\n",
              "       [ 0.71717172],\n",
              "       [ 0.73737374],\n",
              "       [ 0.75757576],\n",
              "       [ 0.77777778],\n",
              "       [ 0.7979798 ],\n",
              "       [ 0.81818182],\n",
              "       [ 0.83838384],\n",
              "       [ 0.85858586],\n",
              "       [ 0.87878788],\n",
              "       [ 0.8989899 ],\n",
              "       [ 0.91919192],\n",
              "       [ 0.93939394],\n",
              "       [ 0.95959596],\n",
              "       [ 0.97979798],\n",
              "       [ 1.        ]])"
            ]
          },
          "metadata": {},
          "execution_count": 2
        }
      ]
    },
    {
      "cell_type": "code",
      "metadata": {
        "colab": {
          "base_uri": "https://localhost:8080/"
        },
        "id": "1pCA3mzvJiRY",
        "outputId": "23a3a169-f42b-442d-913f-93d5151a217f"
      },
      "source": [
        "from scipy import stats\n",
        "a = np.array([0,1,2,3,4,5,6, 23, 19, 11])\n",
        "b = np.array([0, 1, 4, 9, 16, 25, 36, 144, 225, 196])\n",
        "stats.pearsonr(a,b)"
      ],
      "execution_count": null,
      "outputs": [
        {
          "output_type": "execute_result",
          "data": {
            "text/plain": [
              "PearsonRResult(statistic=0.8615898239550396, pvalue=0.0013540376408062698)"
            ]
          },
          "metadata": {},
          "execution_count": 3
        }
      ]
    },
    {
      "cell_type": "code",
      "source": [
        "a = np.array([0,1,2,7,8])\n",
        "b = np.array([11, 19, 23, 31, 39])\n",
        "stats.pearsonr(a,b)"
      ],
      "metadata": {
        "colab": {
          "base_uri": "https://localhost:8080/"
        },
        "id": "DhYMsGBqQ0L_",
        "outputId": "c59407b6-1a73-4fc1-d06e-b6ed22fb5a3d"
      },
      "execution_count": null,
      "outputs": [
        {
          "output_type": "execute_result",
          "data": {
            "text/plain": [
              "PearsonRResult(statistic=0.9590573057149805, pvalue=0.009883555244098244)"
            ]
          },
          "metadata": {},
          "execution_count": 4
        }
      ]
    },
    {
      "cell_type": "code",
      "source": [
        "stats.pearsonr(data_x.reshape(100,),data_y.reshape(100,))"
      ],
      "metadata": {
        "colab": {
          "base_uri": "https://localhost:8080/"
        },
        "id": "35MR4WtaDZnN",
        "outputId": "90e83062-6318-4279-da40-0202c73e146a"
      },
      "execution_count": null,
      "outputs": [
        {
          "output_type": "execute_result",
          "data": {
            "text/plain": [
              "PearsonRResult(statistic=0.050816163466834756, pvalue=0.6155990303377824)"
            ]
          },
          "metadata": {},
          "execution_count": 5
        }
      ]
    },
    {
      "cell_type": "code",
      "metadata": {
        "id": "4TdaAALnFUOe",
        "colab": {
          "base_uri": "https://localhost:8080/"
        },
        "outputId": "b52e09a7-c149-437e-d9db-bc4eb8223aaa"
      },
      "source": [
        "data_x = np.hstack((np.ones_like(data_x), data_x))\n",
        "data_x"
      ],
      "execution_count": null,
      "outputs": [
        {
          "output_type": "execute_result",
          "data": {
            "text/plain": [
              "array([[ 1.        , -1.        ],\n",
              "       [ 1.        , -0.97979798],\n",
              "       [ 1.        , -0.95959596],\n",
              "       [ 1.        , -0.93939394],\n",
              "       [ 1.        , -0.91919192],\n",
              "       [ 1.        , -0.8989899 ],\n",
              "       [ 1.        , -0.87878788],\n",
              "       [ 1.        , -0.85858586],\n",
              "       [ 1.        , -0.83838384],\n",
              "       [ 1.        , -0.81818182],\n",
              "       [ 1.        , -0.7979798 ],\n",
              "       [ 1.        , -0.77777778],\n",
              "       [ 1.        , -0.75757576],\n",
              "       [ 1.        , -0.73737374],\n",
              "       [ 1.        , -0.71717172],\n",
              "       [ 1.        , -0.6969697 ],\n",
              "       [ 1.        , -0.67676768],\n",
              "       [ 1.        , -0.65656566],\n",
              "       [ 1.        , -0.63636364],\n",
              "       [ 1.        , -0.61616162],\n",
              "       [ 1.        , -0.5959596 ],\n",
              "       [ 1.        , -0.57575758],\n",
              "       [ 1.        , -0.55555556],\n",
              "       [ 1.        , -0.53535354],\n",
              "       [ 1.        , -0.51515152],\n",
              "       [ 1.        , -0.49494949],\n",
              "       [ 1.        , -0.47474747],\n",
              "       [ 1.        , -0.45454545],\n",
              "       [ 1.        , -0.43434343],\n",
              "       [ 1.        , -0.41414141],\n",
              "       [ 1.        , -0.39393939],\n",
              "       [ 1.        , -0.37373737],\n",
              "       [ 1.        , -0.35353535],\n",
              "       [ 1.        , -0.33333333],\n",
              "       [ 1.        , -0.31313131],\n",
              "       [ 1.        , -0.29292929],\n",
              "       [ 1.        , -0.27272727],\n",
              "       [ 1.        , -0.25252525],\n",
              "       [ 1.        , -0.23232323],\n",
              "       [ 1.        , -0.21212121],\n",
              "       [ 1.        , -0.19191919],\n",
              "       [ 1.        , -0.17171717],\n",
              "       [ 1.        , -0.15151515],\n",
              "       [ 1.        , -0.13131313],\n",
              "       [ 1.        , -0.11111111],\n",
              "       [ 1.        , -0.09090909],\n",
              "       [ 1.        , -0.07070707],\n",
              "       [ 1.        , -0.05050505],\n",
              "       [ 1.        , -0.03030303],\n",
              "       [ 1.        , -0.01010101],\n",
              "       [ 1.        ,  0.01010101],\n",
              "       [ 1.        ,  0.03030303],\n",
              "       [ 1.        ,  0.05050505],\n",
              "       [ 1.        ,  0.07070707],\n",
              "       [ 1.        ,  0.09090909],\n",
              "       [ 1.        ,  0.11111111],\n",
              "       [ 1.        ,  0.13131313],\n",
              "       [ 1.        ,  0.15151515],\n",
              "       [ 1.        ,  0.17171717],\n",
              "       [ 1.        ,  0.19191919],\n",
              "       [ 1.        ,  0.21212121],\n",
              "       [ 1.        ,  0.23232323],\n",
              "       [ 1.        ,  0.25252525],\n",
              "       [ 1.        ,  0.27272727],\n",
              "       [ 1.        ,  0.29292929],\n",
              "       [ 1.        ,  0.31313131],\n",
              "       [ 1.        ,  0.33333333],\n",
              "       [ 1.        ,  0.35353535],\n",
              "       [ 1.        ,  0.37373737],\n",
              "       [ 1.        ,  0.39393939],\n",
              "       [ 1.        ,  0.41414141],\n",
              "       [ 1.        ,  0.43434343],\n",
              "       [ 1.        ,  0.45454545],\n",
              "       [ 1.        ,  0.47474747],\n",
              "       [ 1.        ,  0.49494949],\n",
              "       [ 1.        ,  0.51515152],\n",
              "       [ 1.        ,  0.53535354],\n",
              "       [ 1.        ,  0.55555556],\n",
              "       [ 1.        ,  0.57575758],\n",
              "       [ 1.        ,  0.5959596 ],\n",
              "       [ 1.        ,  0.61616162],\n",
              "       [ 1.        ,  0.63636364],\n",
              "       [ 1.        ,  0.65656566],\n",
              "       [ 1.        ,  0.67676768],\n",
              "       [ 1.        ,  0.6969697 ],\n",
              "       [ 1.        ,  0.71717172],\n",
              "       [ 1.        ,  0.73737374],\n",
              "       [ 1.        ,  0.75757576],\n",
              "       [ 1.        ,  0.77777778],\n",
              "       [ 1.        ,  0.7979798 ],\n",
              "       [ 1.        ,  0.81818182],\n",
              "       [ 1.        ,  0.83838384],\n",
              "       [ 1.        ,  0.85858586],\n",
              "       [ 1.        ,  0.87878788],\n",
              "       [ 1.        ,  0.8989899 ],\n",
              "       [ 1.        ,  0.91919192],\n",
              "       [ 1.        ,  0.93939394],\n",
              "       [ 1.        ,  0.95959596],\n",
              "       [ 1.        ,  0.97979798],\n",
              "       [ 1.        ,  1.        ]])"
            ]
          },
          "metadata": {},
          "execution_count": 6
        }
      ]
    },
    {
      "cell_type": "code",
      "metadata": {
        "id": "5o4IpF-zFWxc",
        "colab": {
          "base_uri": "https://localhost:8080/"
        },
        "outputId": "e1bca7a9-4aa7-42ae-b879-d8c30c1a0944"
      },
      "source": [
        "order = np.random.permutation(len(data_x))\n",
        "portion = 20\n",
        "test_x = data_x[order[:portion]]\n",
        "test_y = data_y[order[:portion]]\n",
        "train_x = data_x[order[portion:]]\n",
        "train_y = data_y[order[portion:]]\n",
        "print(order)\n",
        "print (test_x.shape, train_x.size, test_y.size, train_y.size)\n",
        "print (test_x)"
      ],
      "execution_count": null,
      "outputs": [
        {
          "output_type": "stream",
          "name": "stdout",
          "text": [
            "[91 21 72 38 52 42 85 10 75 84 93 54  1 13 15 41 71 80 90 79 63 25 98 46\n",
            " 31 18  4 27 69 50 14 74 92 64  7 56 24 44 57 66 87 73 60 58 81 47 77 99\n",
            " 19 40 49 35 30 28  3 20 17 29 23 61 88 83 55 89 96 97 48 36 37 94 16 78\n",
            " 76 39 51 67  0 32 22 34 86 45 53 43 33 82  5  6  8 65 95 12  2 70 59 68\n",
            " 62 26  9 11]\n",
            "(20, 2) 160 20 80\n",
            "[[ 1.          0.83838384]\n",
            " [ 1.         -0.57575758]\n",
            " [ 1.          0.45454545]\n",
            " [ 1.         -0.23232323]\n",
            " [ 1.          0.05050505]\n",
            " [ 1.         -0.15151515]\n",
            " [ 1.          0.71717172]\n",
            " [ 1.         -0.7979798 ]\n",
            " [ 1.          0.51515152]\n",
            " [ 1.          0.6969697 ]\n",
            " [ 1.          0.87878788]\n",
            " [ 1.          0.09090909]\n",
            " [ 1.         -0.97979798]\n",
            " [ 1.         -0.73737374]\n",
            " [ 1.         -0.6969697 ]\n",
            " [ 1.         -0.17171717]\n",
            " [ 1.          0.43434343]\n",
            " [ 1.          0.61616162]\n",
            " [ 1.          0.81818182]\n",
            " [ 1.          0.5959596 ]]\n"
          ]
        }
      ]
    },
    {
      "cell_type": "code",
      "metadata": {
        "id": "KJU06clcU5iw",
        "colab": {
          "base_uri": "https://localhost:8080/",
          "height": 430
        },
        "outputId": "70cc0dad-851b-44e6-a749-5cd313372ccd"
      },
      "source": [
        "plt.scatter(train_x[:,1], train_y, c='b', label='Data')\n",
        "plt.show()"
      ],
      "execution_count": null,
      "outputs": [
        {
          "output_type": "display_data",
          "data": {
            "text/plain": [
              "<Figure size 640x480 with 1 Axes>"
            ],
            "image/png": "[encoded data removed]"
          },
          "metadata": {}
        }
      ]
    },
    {
      "cell_type": "code",
      "metadata": {
        "id": "2_qABGqzFZOm"
      },
      "source": [
        "def get_gradient(w, x, y):\n",
        "    y_estimate = (np.power(x,2).dot(w)).flatten() #hypothesis\n",
        "    error = (y.flatten() - y_estimate)\n",
        "    mse = (1.0/len(x))*np.sum(np.power(error,2)) # mse\n",
        "    gradient = -(1.0/len(x)) * error.dot(np.power(x,2))         # gradient\n",
        "    return gradient, mse"
      ],
      "execution_count": null,
      "outputs": []
    },
    {
      "cell_type": "code",
      "metadata": {
        "id": "XuzNhrcTFcm6",
        "colab": {
          "base_uri": "https://localhost:8080/"
        },
        "outputId": "24faae35-63c5-4e9a-ba4b-a64ecf7ae41a"
      },
      "source": [
        "w = np.random.randn(2) # Random Intialization\n",
        "alpha = 0.4 # learning rate\n",
        "tolerance = 1e-3 # param for stopping the loop\n",
        "print(\"Intial values of Weights:\")\n",
        "print(w[1], w[0])\n",
        "# Perform Gradient Descent\n",
        "iterations = 1\n",
        "while True:\n",
        "    gradient, error = get_gradient(w, train_x, train_y)\n",
        "    new_w = w - alpha * gradient\n",
        "#     print(gradient)\n",
        "\n",
        "    # Stopping Condition\n",
        "    if np.sum(abs(new_w - w)) < tolerance:\n",
        "        print (\"Converged\")\n",
        "        break\n",
        "\n",
        "    # Print error every 10 iterations\n",
        "    if iterations % 10 == 0:\n",
        "        print (\"Iteration: %d - Error: %.4f\" %(iterations, error))\n",
        "        print (\"Updated Weights : {:f} , {:f}\".format(w[1], w[0]))\n",
        "    iterations += 1\n",
        "    w = new_w\n",
        "\n",
        "print (\"Final Weights : {:f} , {:f}\".format(w[1], w[0]))\n",
        "print (\"Test Cost =\", get_gradient(w, test_x, test_y)[1])"
      ],
      "execution_count": null,
      "outputs": [
        {
          "output_type": "stream",
          "name": "stdout",
          "text": [
            "Intial values of Weights:\n",
            "0.2665422377725298 1.7539806943009812\n",
            "Iteration: 10 - Error: 4.6479\n",
            "Updated Weights : 3.201424 , 2.450236\n",
            "Iteration: 20 - Error: 2.6319\n",
            "Updated Weights : 5.099764 , 1.773674\n",
            "Iteration: 30 - Error: 1.6289\n",
            "Updated Weights : 6.436960 , 1.291190\n",
            "Iteration: 40 - Error: 1.1297\n",
            "Updated Weights : 7.380212 , 0.950833\n",
            "Iteration: 50 - Error: 0.8814\n",
            "Updated Weights : 8.045581 , 0.710745\n",
            "Iteration: 60 - Error: 0.7578\n",
            "Updated Weights : 8.514931 , 0.541388\n",
            "Iteration: 70 - Error: 0.6963\n",
            "Updated Weights : 8.846010 , 0.421923\n",
            "Iteration: 80 - Error: 0.6657\n",
            "Updated Weights : 9.079553 , 0.337653\n",
            "Iteration: 90 - Error: 0.6505\n",
            "Updated Weights : 9.244293 , 0.278209\n",
            "Iteration: 100 - Error: 0.6429\n",
            "Updated Weights : 9.360501 , 0.236277\n",
            "Iteration: 110 - Error: 0.6391\n",
            "Updated Weights : 9.442474 , 0.206699\n",
            "Iteration: 120 - Error: 0.6373\n",
            "Updated Weights : 9.500298 , 0.185834\n",
            "Iteration: 130 - Error: 0.6363\n",
            "Updated Weights : 9.541086 , 0.171116\n",
            "Iteration: 140 - Error: 0.6359\n",
            "Updated Weights : 9.569859 , 0.160734\n",
            "Iteration: 150 - Error: 0.6356\n",
            "Updated Weights : 9.590155 , 0.153411\n",
            "Iteration: 160 - Error: 0.6355\n",
            "Updated Weights : 9.604471 , 0.148245\n",
            "Iteration: 170 - Error: 0.6355\n",
            "Updated Weights : 9.614570 , 0.144601\n",
            "Converged\n",
            "Final Weights : 9.617721 , 0.143464\n",
            "Test Cost = 1.095428852426565\n"
          ]
        }
      ]
    },
    {
      "cell_type": "code",
      "metadata": {
        "id": "r1UZuG1AHrVa",
        "colab": {
          "base_uri": "https://localhost:8080/"
        },
        "outputId": "545b256d-c2b8-42f7-c429-8969493db4e5"
      },
      "source": [
        "print(\"Final eqn / hypothesis looks like:\")\n",
        "print('y = {:f}.x^2 + {:f}'.format(w[1], w[0]))"
      ],
      "execution_count": null,
      "outputs": [
        {
          "output_type": "stream",
          "name": "stdout",
          "text": [
            "Final eqn / hypothesis looks like:\n",
            "y = 9.617721.x^2 + 0.143464\n"
          ]
        }
      ]
    },
    {
      "cell_type": "code",
      "metadata": {
        "id": "qkh4rdrEFkdf",
        "colab": {
          "base_uri": "https://localhost:8080/",
          "height": 449
        },
        "outputId": "26fb1111-4c1a-4edf-cfdb-9d231ff818dd"
      },
      "source": [
        "plt.plot(data_x[:,1], (data_x**2).dot(w), c='g', label='Model')\n",
        "plt.scatter(train_x[:,1], train_y, c='b', label='Train Set')\n",
        "plt.scatter(test_x[:,1], test_y, c='r', label='Test Set')\n",
        "plt.grid()\n",
        "plt.legend(loc='best')\n",
        "plt.xlabel('X')\n",
        "plt.ylabel('Y')\n",
        "plt.show()"
      ],
      "execution_count": null,
      "outputs": [
        {
          "output_type": "display_data",
          "data": {
            "text/plain": [
              "<Figure size 640x480 with 1 Axes>"
            ],
            "image/png": "[encoded data removed]"
          },
          "metadata": {}
        }
      ]
    },
    {
      "cell_type": "code",
      "metadata": {
        "id": "T8k2vm1FOzg9",
        "colab": {
          "base_uri": "https://localhost:8080/"
        },
        "outputId": "21174d8a-2874-4971-bc05-92d1e4b27863"
      },
      "source": [
        "w # trained model contains values of weights/parameters"
      ],
      "execution_count": null,
      "outputs": [
        {
          "output_type": "execute_result",
          "data": {
            "text/plain": [
              "array([  0.72487159, 399.01153925])"
            ]
          },
          "metadata": {},
          "execution_count": 13
        }
      ]
    },
    {
      "cell_type": "code",
      "source": [
        "x_val = 15.4\n",
        "\n",
        "x_val = x_val/10\n",
        "\n",
        "w[1] * x_val**2 + w[0] # prediction. No change is caused to parameters here"
      ],
      "metadata": {
        "colab": {
          "base_uri": "https://localhost:8080/"
        },
        "id": "qovukr2BfKd9",
        "outputId": "2e864690-ebec-42c7-a37b-d5917667c582"
      },
      "execution_count": null,
      "outputs": [
        {
          "output_type": "execute_result",
          "data": {
            "text/plain": [
              "947.0206380695314"
            ]
          },
          "metadata": {},
          "execution_count": 14
        }
      ]
    }
  ]
}